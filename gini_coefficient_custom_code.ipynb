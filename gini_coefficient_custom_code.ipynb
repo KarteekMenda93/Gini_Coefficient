{
  "nbformat": 4,
  "nbformat_minor": 0,
  "metadata": {
    "colab": {
      "provenance": []
    },
    "kernelspec": {
      "name": "python3",
      "display_name": "Python 3"
    },
    "language_info": {
      "name": "python"
    }
  },
  "cells": [
    {
      "cell_type": "markdown",
      "source": [
        "# GINI METRICS(Especially used in industry for Frequency Severity modelling)"
      ],
      "metadata": {
        "id": "mWjXkY8E9Ev7"
      }
    },
    {
      "cell_type": "code",
      "metadata": {
        "id": "k6LyJ1HXPVrF"
      },
      "source": [
        "predictions = [0.9, 0.3, 0.8, 0.75, 0.65, 0.6, 0.78, 0.7, 0.05, 0.4, 0.4, 0.05, 0.5, 0.1, 0.1]\n",
        "actual = [1, 1, 1, 1, 1, 1, 0, 0, 0, 0, 0, 0, 0, 0, 0]"
      ],
      "execution_count": null,
      "outputs": []
    },
    {
      "cell_type": "code",
      "metadata": {
        "id": "vvuI5gvBPWgw"
      },
      "source": [
        "import numpy as np"
      ],
      "execution_count": null,
      "outputs": []
    },
    {
      "cell_type": "code",
      "metadata": {
        "colab": {
          "base_uri": "https://localhost:8080/"
        },
        "id": "JXqwHaciPbMA",
        "outputId": "52aece07-4200-4bd7-cfd1-66a2d1e579c1"
      },
      "source": [
        "all = np.asarray(np.c_[actual, predictions, np.arange(len(actual))], dtype=np.float)\n",
        "all # arranging in an array"
      ],
      "execution_count": null,
      "outputs": [
        {
          "output_type": "stream",
          "name": "stderr",
          "text": [
            "/usr/local/lib/python3.7/dist-packages/ipykernel_launcher.py:1: DeprecationWarning: `np.float` is a deprecated alias for the builtin `float`. To silence this warning, use `float` by itself. Doing this will not modify any behavior and is safe. If you specifically wanted the numpy scalar type, use `np.float64` here.\n",
            "Deprecated in NumPy 1.20; for more details and guidance: https://numpy.org/devdocs/release/1.20.0-notes.html#deprecations\n",
            "  \"\"\"Entry point for launching an IPython kernel.\n"
          ]
        },
        {
          "output_type": "execute_result",
          "data": {
            "text/plain": [
              "array([[ 1.  ,  0.9 ,  0.  ],\n",
              "       [ 1.  ,  0.3 ,  1.  ],\n",
              "       [ 1.  ,  0.8 ,  2.  ],\n",
              "       [ 1.  ,  0.75,  3.  ],\n",
              "       [ 1.  ,  0.65,  4.  ],\n",
              "       [ 1.  ,  0.6 ,  5.  ],\n",
              "       [ 0.  ,  0.78,  6.  ],\n",
              "       [ 0.  ,  0.7 ,  7.  ],\n",
              "       [ 0.  ,  0.05,  8.  ],\n",
              "       [ 0.  ,  0.4 ,  9.  ],\n",
              "       [ 0.  ,  0.4 , 10.  ],\n",
              "       [ 0.  ,  0.05, 11.  ],\n",
              "       [ 0.  ,  0.5 , 12.  ],\n",
              "       [ 0.  ,  0.1 , 13.  ],\n",
              "       [ 0.  ,  0.1 , 14.  ]])"
            ]
          },
          "metadata": {},
          "execution_count": 3
        }
      ]
    },
    {
      "cell_type": "code",
      "metadata": {
        "colab": {
          "base_uri": "https://localhost:8080/"
        },
        "id": "yPGRX-vOPjxO",
        "outputId": "d494459d-b5d5-491c-c317-805ad3ddf673"
      },
      "source": [
        "all = all[np.lexsort((all[:, 2], -1 * all[:, 1]))]\n",
        "all# sort based on predictions from large to small"
      ],
      "execution_count": null,
      "outputs": [
        {
          "output_type": "execute_result",
          "data": {
            "text/plain": [
              "array([[ 1.  ,  0.9 ,  0.  ],\n",
              "       [ 1.  ,  0.8 ,  2.  ],\n",
              "       [ 0.  ,  0.78,  6.  ],\n",
              "       [ 1.  ,  0.75,  3.  ],\n",
              "       [ 0.  ,  0.7 ,  7.  ],\n",
              "       [ 1.  ,  0.65,  4.  ],\n",
              "       [ 1.  ,  0.6 ,  5.  ],\n",
              "       [ 0.  ,  0.5 , 12.  ],\n",
              "       [ 0.  ,  0.4 ,  9.  ],\n",
              "       [ 0.  ,  0.4 , 10.  ],\n",
              "       [ 1.  ,  0.3 ,  1.  ],\n",
              "       [ 0.  ,  0.1 , 13.  ],\n",
              "       [ 0.  ,  0.1 , 14.  ],\n",
              "       [ 0.  ,  0.05,  8.  ],\n",
              "       [ 0.  ,  0.05, 11.  ]])"
            ]
          },
          "metadata": {},
          "execution_count": 4
        }
      ]
    },
    {
      "cell_type": "code",
      "metadata": {
        "colab": {
          "base_uri": "https://localhost:8080/"
        },
        "id": "1dDhhbYrdFWR",
        "outputId": "4bbfd05f-59b5-4f85-a60e-baddcc18fd3f"
      },
      "source": [
        "totalLosses = all[:, 0].sum()\n",
        "totalLosses# sum o f all the `actual` column"
      ],
      "execution_count": null,
      "outputs": [
        {
          "output_type": "execute_result",
          "data": {
            "text/plain": [
              "6.0"
            ]
          },
          "metadata": {},
          "execution_count": 5
        }
      ]
    },
    {
      "cell_type": "code",
      "metadata": {
        "colab": {
          "base_uri": "https://localhost:8080/"
        },
        "id": "xRrABdIAdO7i",
        "outputId": "63280697-c5c8-45ef-dff7-8b64910b6a36"
      },
      "source": [
        "giniSum = all[:, 0].cumsum().sum() / totalLosses# for `actual column` finding the total of cumulative sum of the actual column array/sum of all of the actual column\n",
        "giniSum"
      ],
      "execution_count": null,
      "outputs": [
        {
          "output_type": "execute_result",
          "data": {
            "text/plain": [
              "10.833333333333334"
            ]
          },
          "metadata": {},
          "execution_count": 6
        }
      ]
    },
    {
      "cell_type": "code",
      "metadata": {
        "colab": {
          "base_uri": "https://localhost:8080/"
        },
        "id": "U3dXBsokddoB",
        "outputId": "c068ab89-0932-443e-e350-d88f8c8ab0ba"
      },
      "source": [
        "giniSum -= (len(actual) + 1) / 2.\n",
        "giniSum"
      ],
      "execution_count": null,
      "outputs": [
        {
          "output_type": "execute_result",
          "data": {
            "text/plain": [
              "2.833333333333334"
            ]
          },
          "metadata": {},
          "execution_count": 7
        }
      ]
    },
    {
      "cell_type": "code",
      "metadata": {
        "colab": {
          "base_uri": "https://localhost:8080/"
        },
        "id": "fiqqqsr4di3Q",
        "outputId": "dd728a52-9d62-4a73-bf8f-aee42a2f601d"
      },
      "source": [
        "giniSum / len(actual)# gini coefficient"
      ],
      "execution_count": null,
      "outputs": [
        {
          "output_type": "execute_result",
          "data": {
            "text/plain": [
              "0.18888888888888894"
            ]
          },
          "metadata": {},
          "execution_count": 8
        }
      ]
    },
    {
      "cell_type": "markdown",
      "source": [
        "*ALL code put together*"
      ],
      "metadata": {
        "id": "ZQ_dL8wddpGt"
      }
    },
    {
      "cell_type": "code",
      "source": [
        "assert (len(actual) == len(predictions))\n",
        "all = np.asarray(np.c_[actual, predictions, np.arange(len(actual))], dtype=np.float)# arranging in an array\n",
        "all = all[np.lexsort((all[:, 2], -1 * all[:, 1]))]# sort based on predictions from large to small\n",
        "totalLosses = all[:, 0].sum()# sum of all the actual column\n",
        "giniSum = all[:, 0].cumsum().sum() / totalLosses# for actual column finding the total of cumulative sum of the actual column array/sum of all of the actual column\n",
        "giniSum -= (len(actual) + 1) / 2.\n",
        "giniSum / len(actual)# gini coefficient"
      ],
      "metadata": {
        "colab": {
          "base_uri": "https://localhost:8080/"
        },
        "id": "QNK-FtjgdnXH",
        "outputId": "f92afa1e-b3d9-4908-8775-5bb1a9087e45"
      },
      "execution_count": null,
      "outputs": [
        {
          "output_type": "stream",
          "name": "stderr",
          "text": [
            "/usr/local/lib/python3.7/dist-packages/ipykernel_launcher.py:2: DeprecationWarning: `np.float` is a deprecated alias for the builtin `float`. To silence this warning, use `float` by itself. Doing this will not modify any behavior and is safe. If you specifically wanted the numpy scalar type, use `np.float64` here.\n",
            "Deprecated in NumPy 1.20; for more details and guidance: https://numpy.org/devdocs/release/1.20.0-notes.html#deprecations\n",
            "  \n"
          ]
        },
        {
          "output_type": "execute_result",
          "data": {
            "text/plain": [
              "0.18888888888888894"
            ]
          },
          "metadata": {},
          "execution_count": 9
        }
      ]
    },
    {
      "cell_type": "markdown",
      "source": [
        "# a different way of coding the same metric is:\n"
      ],
      "metadata": {
        "id": "SCkYdfCB9O2Q"
      }
    },
    {
      "cell_type": "code",
      "source": [
        "def mygini(sortby, pred, actual, weight = None, n=10, plot = True, std = None):\n",
        "  if weight is None:\n",
        "    weight = np.ones_like(pred)\n",
        "\n",
        "  def weighted_std(values, weight):\n",
        "    m = np.average(values, weights = weight)\n",
        "    return np.sqrt(np.average((values - m)**2, weights = weight))\n",
        "  r = np.vstack((sortby, pred, actual, weight)).T\n",
        "  r = r[sortby.argsort()].T\n",
        "  cumm_y = np.cumsum(r[2]*r[3])\n",
        "  total_w = np.sum(weight)\n",
        "  gini = 1-2*(np.sum(cumm_y*r[3])/(np.sum(r[2]*r[3])*total_w))\n",
        "  return gini\n",
        "\n",
        "# calling the \"mygini\" function\n",
        "fit_model = poisson_model.fit()\n",
        "predictions = fit_model.predict(X_train)\n",
        "mygini(predictions, predictions, y_train)"
      ],
      "metadata": {
        "id": "-dTpTSvHdvKf"
      },
      "execution_count": null,
      "outputs": []
    },
    {
      "cell_type": "code",
      "source": [],
      "metadata": {
        "id": "WZJcUN6O9Taz"
      },
      "execution_count": null,
      "outputs": []
    },
    {
      "cell_type": "code",
      "metadata": {
        "id": "5WFZTYhrRiPT"
      },
      "source": [
        "from sklearn.metrics import auc\n",
        "def lorenz_curve(y_true, y_pred, exposure):\n",
        "    y_true, y_pred = np.asarray(y_true), np.asarray(y_pred)\n",
        "    exposure = np.asarray(exposure)\n",
        "\n",
        "    # order samples by increasing predicted risk:\n",
        "    ranking = np.argsort(y_pred)\n",
        "    ranked_exposure = exposure[ranking]\n",
        "    ranked_pure_premium = y_true[ranking]\n",
        "    cumulated_claim_amount = np.cumsum(ranked_pure_premium * ranked_exposure)\n",
        "    cumulated_claim_amount /= cumulated_claim_amount[-1]\n",
        "    cumulated_samples = np.linspace(0, 1, len(cumulated_claim_amount))\n",
        "    return cumulated_samples, cumulated_claim_amount\n",
        "\n",
        "ordered_samples, cum_claims = lorenz_curve(df_test[\"PurePremium\"], y_pred, df_test[\"Exposure\"])\n",
        "gini = 1 - 2 * auc(ordered_samples, cum_claims)"
      ],
      "execution_count": null,
      "outputs": []
    }
  ]
}